{
  "cells": [
    {
      "cell_type": "markdown",
      "metadata": {
        "id": "_LItjp2UHJWf"
      },
      "source": [
        "### Importing required libraries"
      ]
    },
    {
      "cell_type": "code",
      "execution_count": null,
      "metadata": {
        "colab": {
          "base_uri": "https://localhost:8080/"
        },
        "id": "Kxb5y7-OvoQb",
        "outputId": "7f291b15-3489-413e-fb44-19ee34866efe"
      },
      "outputs": [
        {
          "output_type": "stream",
          "name": "stdout",
          "text": [
            "Requirement already satisfied: wandb in /usr/local/lib/python3.10/dist-packages (0.16.6)\n",
            "Requirement already satisfied: Click!=8.0.0,>=7.1 in /usr/local/lib/python3.10/dist-packages (from wandb) (8.1.7)\n",
            "Requirement already satisfied: GitPython!=3.1.29,>=1.0.0 in /usr/local/lib/python3.10/dist-packages (from wandb) (3.1.43)\n",
            "Requirement already satisfied: requests<3,>=2.0.0 in /usr/local/lib/python3.10/dist-packages (from wandb) (2.31.0)\n",
            "Requirement already satisfied: psutil>=5.0.0 in /usr/local/lib/python3.10/dist-packages (from wandb) (5.9.5)\n",
            "Requirement already satisfied: sentry-sdk>=1.0.0 in /usr/local/lib/python3.10/dist-packages (from wandb) (1.44.1)\n",
            "Requirement already satisfied: docker-pycreds>=0.4.0 in /usr/local/lib/python3.10/dist-packages (from wandb) (0.4.0)\n",
            "Requirement already satisfied: PyYAML in /usr/local/lib/python3.10/dist-packages (from wandb) (6.0.1)\n",
            "Requirement already satisfied: setproctitle in /usr/local/lib/python3.10/dist-packages (from wandb) (1.3.3)\n",
            "Requirement already satisfied: setuptools in /usr/local/lib/python3.10/dist-packages (from wandb) (67.7.2)\n",
            "Requirement already satisfied: appdirs>=1.4.3 in /usr/local/lib/python3.10/dist-packages (from wandb) (1.4.4)\n",
            "Requirement already satisfied: protobuf!=4.21.0,<5,>=3.19.0 in /usr/local/lib/python3.10/dist-packages (from wandb) (3.20.3)\n",
            "Requirement already satisfied: six>=1.4.0 in /usr/local/lib/python3.10/dist-packages (from docker-pycreds>=0.4.0->wandb) (1.16.0)\n",
            "Requirement already satisfied: gitdb<5,>=4.0.1 in /usr/local/lib/python3.10/dist-packages (from GitPython!=3.1.29,>=1.0.0->wandb) (4.0.11)\n",
            "Requirement already satisfied: charset-normalizer<4,>=2 in /usr/local/lib/python3.10/dist-packages (from requests<3,>=2.0.0->wandb) (3.3.2)\n",
            "Requirement already satisfied: idna<4,>=2.5 in /usr/local/lib/python3.10/dist-packages (from requests<3,>=2.0.0->wandb) (3.6)\n",
            "Requirement already satisfied: urllib3<3,>=1.21.1 in /usr/local/lib/python3.10/dist-packages (from requests<3,>=2.0.0->wandb) (2.0.7)\n",
            "Requirement already satisfied: certifi>=2017.4.17 in /usr/local/lib/python3.10/dist-packages (from requests<3,>=2.0.0->wandb) (2024.2.2)\n",
            "Requirement already satisfied: smmap<6,>=3.0.1 in /usr/local/lib/python3.10/dist-packages (from gitdb<5,>=4.0.1->GitPython!=3.1.29,>=1.0.0->wandb) (5.0.1)\n"
          ]
        }
      ],
      "source": [
        "!pip install wandb"
      ]
    },
    {
      "cell_type": "code",
      "execution_count": null,
      "metadata": {
        "colab": {
          "base_uri": "https://localhost:8080/"
        },
        "id": "-ixoiufgtZIs",
        "outputId": "77dd5873-eb86-48e7-9565-ae54c06d4ecb"
      },
      "outputs": [
        {
          "output_type": "stream",
          "name": "stdout",
          "text": [
            "Drive already mounted at /content/drive; to attempt to forcibly remount, call drive.mount(\"/content/drive\", force_remount=True).\n"
          ]
        }
      ],
      "source": [
        "from google.colab import drive\n",
        "drive.mount('/content/drive')"
      ]
    },
    {
      "cell_type": "code",
      "execution_count": null,
      "metadata": {
        "execution": {
          "iopub.execute_input": "2024-04-01T16:49:55.210055Z",
          "iopub.status.busy": "2024-04-01T16:49:55.209669Z",
          "iopub.status.idle": "2024-04-01T16:49:55.221545Z",
          "shell.execute_reply": "2024-04-01T16:49:55.220648Z",
          "shell.execute_reply.started": "2024-04-01T16:49:55.210027Z"
        },
        "id": "LSi6fVexDL66",
        "trusted": true
      },
      "outputs": [],
      "source": [
        "import matplotlib.pyplot as plt\n",
        "import numpy as np\n",
        "import glob\n",
        "import os\n",
        "import wandb\n",
        "train_data_directory = '/content/drive/MyDrive/Deeplearning/inaturalist_12K/train/'\n",
        "test_data_directory = '/content/drive/MyDrive/Deeplearning/inaturalist_12K/val/'"
      ]
    },
    {
      "cell_type": "code",
      "execution_count": null,
      "metadata": {
        "execution": {
          "iopub.execute_input": "2024-04-01T16:50:08.532160Z",
          "iopub.status.busy": "2024-04-01T16:50:08.531856Z",
          "iopub.status.idle": "2024-04-01T16:50:15.070834Z",
          "shell.execute_reply": "2024-04-01T16:50:15.069849Z",
          "shell.execute_reply.started": "2024-04-01T16:50:08.532128Z"
        },
        "id": "3YIRGqMgHJWg",
        "trusted": true
      },
      "outputs": [],
      "source": [
        "import torch\n",
        "import torchvision\n",
        "import torchvision.transforms as transforms\n",
        "from torchvision.datasets.utils import download_url\n",
        "from torchvision import datasets\n",
        "from torch.utils.data import DataLoader, ConcatDataset, random_split"
      ]
    },
    {
      "cell_type": "markdown",
      "metadata": {
        "id": "PBPDP2AEuSsC"
      },
      "source": [
        "#Login wandb"
      ]
    },
    {
      "cell_type": "code",
      "execution_count": null,
      "metadata": {
        "colab": {
          "base_uri": "https://localhost:8080/"
        },
        "id": "zfPq7ybDuUua",
        "outputId": "591f086c-568b-42dd-8c79-65df562b33d9"
      },
      "outputs": [
        {
          "output_type": "stream",
          "name": "stderr",
          "text": [
            "\u001b[34m\u001b[1mwandb\u001b[0m: W&B API key is configured. Use \u001b[1m`wandb login --relogin`\u001b[0m to force relogin\n",
            "\u001b[34m\u001b[1mwandb\u001b[0m: \u001b[33mWARNING\u001b[0m If you're specifying your api key in code, ensure this code is not shared publicly.\n",
            "\u001b[34m\u001b[1mwandb\u001b[0m: \u001b[33mWARNING\u001b[0m Consider setting the WANDB_API_KEY environment variable, or running `wandb login` from the command line.\n",
            "\u001b[34m\u001b[1mwandb\u001b[0m: Appending key for api.wandb.ai to your netrc file: /root/.netrc\n"
          ]
        },
        {
          "output_type": "execute_result",
          "data": {
            "text/plain": [
              "True"
            ]
          },
          "metadata": {},
          "execution_count": 7
        }
      ],
      "source": [
        "wandb.login(key='5157ae11e5d243722bc57912a56718dc8ef2f734') #Wandb login with my key"
      ]
    },
    {
      "cell_type": "markdown",
      "metadata": {
        "id": "svutd7WLsspI"
      },
      "source": [
        "#Loader"
      ]
    },
    {
      "cell_type": "code",
      "execution_count": null,
      "metadata": {
        "id": "OnDndKA-sr4t"
      },
      "outputs": [],
      "source": [
        "def train_load_(train_d , train__batch_size ,test__batch_size , val_Dataset , val__batch_size,boolT=True ):\n",
        "\n",
        "    train_batch_load = DataLoader(\n",
        "        train_d,\n",
        "         batch_size = train__batch_size,\n",
        "        shuffle=boolT)\n",
        "\n",
        "    batch_size = test__batch_size\n",
        "    test_batch_load = DataLoader(\n",
        "        test_data_directory,\n",
        "        batch_size,\n",
        "        shuffle=boolT)\n",
        "\n",
        "    val_batch_load = DataLoader(\n",
        "        val_Dataset,\n",
        "        batch_size = val__batch_size,\n",
        "        shuffle=boolT)\n",
        "    return train_batch_load, val_batch_load, test_batch_load"
      ]
    },
    {
      "cell_type": "markdown",
      "metadata": {
        "id": "n--1QaBehfSB"
      },
      "source": [
        "#Forward"
      ]
    },
    {
      "cell_type": "code",
      "execution_count": null,
      "metadata": {
        "id": "6xB7eAJ_hclR"
      },
      "outputs": [],
      "source": [
        "def fn(convolutional_layer_1 ,activation_function_1 , maxpooling_layer_1 , convolutional_layer_2 ,activation_function_2 , maxpooling_layer_2 ,convolutional_layer_3 , activation_function_3 ,  maxpooling_layer_3 , convolutional_layer_4 , activation_function_4 ,maxpooling_layer_4 , convolutional_layer_5 ,activation_function_5 , maxpooling_layer_5 , fully_connected_layer_1,dropout_layer_first , fully_connected_layer_2,dropout_layer_second , _softmax, data_x):\n",
        "    #layer 1\n",
        "    data_x = convolutional_layer_1(data_x)\n",
        "    shape_1=data_x.shape[1]\n",
        "    data_x = activation_function_1(data_x)\n",
        "    data_x = maxpooling_layer_1(data_x)\n",
        "\n",
        "    #layer 2\n",
        "    data_x = convolutional_layer_2(data_x)\n",
        "    shape_1=data_x.shape[1]\n",
        "    data_x = activation_function_2(data_x)\n",
        "    data_x = maxpooling_layer_2(data_x)\n",
        "\n",
        "    #layer 3\n",
        "    data_x = convolutional_layer_3(data_x)\n",
        "    shape_1=data_x.shape[1]\n",
        "    data_x = activation_function_3(data_x)\n",
        "    data_x = maxpooling_layer_3(data_x)\n",
        "\n",
        "    #layer 4\n",
        "    data_x = convolutional_layer_4(data_x)\n",
        "    shape_1=data_x.shape[1]\n",
        "    data_x = activation_function_4(data_x)\n",
        "    data_x = maxpooling_layer_4(data_x)\n",
        "\n",
        "    #layer 5\n",
        "    data_x = convolutional_layer_5(data_x)\n",
        "    data_x = activation_function_5(data_x)\n",
        "    shape_0=data_x.shape[1]\n",
        "    data_x = maxpooling_layer_5(data_x)\n",
        "\n",
        "    shape_1=data_x.shape[1]\n",
        "    shape_2=data_x.shape[2]\n",
        "    shape_3=data_x.shape[3]\n",
        "\n",
        "    shape_all=shape_1*shape_2*shape_3\n",
        "    data_x = data_x.view(-1,shape_all)\n",
        "    data_x = fully_connected_layer_1(data_x)\n",
        "    data_x = dropout_layer_first(data_x)\n",
        "    data_x = fully_connected_layer_2(data_x)\n",
        "    data_x = dropout_layer_second(data_x)\n",
        "    output = _softmax(data_x)\n",
        "\n",
        "    return data_x\n"
      ]
    },
    {
      "cell_type": "markdown",
      "metadata": {
        "id": "aEWZuxW2pBR3"
      },
      "source": [
        "#Transform Data\n"
      ]
    },
    {
      "cell_type": "code",
      "execution_count": null,
      "metadata": {
        "id": "2LkI0hUypAlO"
      },
      "outputs": [],
      "source": [
        "def transform_datasets_(train_data_directory ,train_batch_size ,test_batch_size ,val_batch_size ,val_Dataset  , train_d , image_size, mean , std , degree ):\n",
        "    transformer = transforms.Compose([\n",
        "    transforms.Resize(image_size),\n",
        "    transforms.RandomHorizontalFlip(0.5),\n",
        "    transforms.RandomVerticalFlip(0.02),\n",
        "    transforms.RandomRotation(degree),\n",
        "    transforms.ToTensor(),\n",
        "    transforms.Normalize(mean, std)\n",
        "\n",
        "    ])\n",
        "\n",
        "    augmented_dataset = torchvision.datasets.ImageFolder(root=train_data_directory, transform=transformer)\n",
        "    aug_d= len(augmented_dataset)\n",
        "    aug_d= 0.2 *aug_d\n",
        "    augmented_dataset_size = int(aug_d)\n",
        "    augmented_dataset, _  =  random_split(augmented_dataset, [augmented_dataset_size, len(augmented_dataset) - augmented_dataset_size])\n",
        "    train__batch_size=train_batch_size\n",
        "    train_d = ConcatDataset([train_d, augmented_dataset])\n",
        "    test__batch_size=test_batch_size\n",
        "    val__batch_size=val_batch_size\n",
        "    return train_load_(train_d , train__batch_size ,test__batch_size ,val_Dataset ,val__batch_size, boolT=True)"
      ]
    },
    {
      "cell_type": "markdown",
      "metadata": {
        "id": "dG6x4ca2HJWh"
      },
      "source": [
        "## Loading the iNatuaralist Dataset"
      ]
    },
    {
      "cell_type": "code",
      "execution_count": null,
      "metadata": {
        "execution": {
          "iopub.execute_input": "2024-04-01T16:50:15.072833Z",
          "iopub.status.busy": "2024-04-01T16:50:15.072125Z",
          "iopub.status.idle": "2024-04-01T16:50:15.084900Z",
          "shell.execute_reply": "2024-04-01T16:50:15.083914Z",
          "shell.execute_reply.started": "2024-04-01T16:50:15.072797Z"
        },
        "id": "7NUUrRcUHJWi",
        "trusted": true
      },
      "outputs": [],
      "source": [
        "def data_fetch(apply_data_augmentation, train_data_directory, test_data_directory, train_batch_size, val_batch_size, test_batch_size ,image_size , mean, std):\n",
        "\n",
        "    trans_model_1 = transforms.Compose([\n",
        "        transforms.Resize(image_size),  #by default: (256,256)\n",
        "        transforms.ToTensor(),\n",
        "        transforms.Normalize(mean, std)\n",
        "    ])\n",
        "\n",
        "    train_d = torchvision.datasets.ImageFolder(root=train_data_directory, transform=trans_model_1)\n",
        "    temp =len(train_d)\n",
        "    temp = 0.8* temp\n",
        "    degree=45\n",
        "    train_d, val_Dataset = random_split(train_d, [int(temp), len(train_d) - int(temp)])\n",
        "    if apply_data_augmentation== True:\n",
        "      return transform_datasets_(train_data_directory ,train_batch_size ,test_batch_size ,val_batch_size , val_Dataset , train_d , image_size, mean , std,degree)\n",
        "    return train_load_(train_d , train_batch_size ,test_batch_size ,val_Dataset ,val_batch_size, boolT=True)"
      ]
    },
    {
      "cell_type": "markdown",
      "metadata": {
        "id": "LeozXSC0HJWi"
      },
      "source": [
        "## Setting device to cuda if available\n"
      ]
    },
    {
      "cell_type": "code",
      "execution_count": null,
      "metadata": {
        "colab": {
          "base_uri": "https://localhost:8080/"
        },
        "execution": {
          "iopub.execute_input": "2024-04-01T16:50:15.087776Z",
          "iopub.status.busy": "2024-04-01T16:50:15.087455Z",
          "iopub.status.idle": "2024-04-01T16:50:15.134028Z",
          "shell.execute_reply": "2024-04-01T16:50:15.133133Z",
          "shell.execute_reply.started": "2024-04-01T16:50:15.087752Z"
        },
        "id": "oa62qVeyHJWi",
        "outputId": "935c1943-b2f4-4b24-e8d8-e097cd74dbf4",
        "trusted": true
      },
      "outputs": [
        {
          "output_type": "stream",
          "name": "stdout",
          "text": [
            "cuda\n"
          ]
        }
      ],
      "source": [
        "device = torch.device('cuda' if torch.cuda.is_available() else 'cpu')\n",
        "print(device)"
      ]
    },
    {
      "cell_type": "markdown",
      "metadata": {
        "id": "d052rskIHJWj"
      },
      "source": [
        "# Create a CNN Model"
      ]
    },
    {
      "cell_type": "code",
      "execution_count": null,
      "metadata": {
        "execution": {
          "iopub.execute_input": "2024-04-01T16:50:15.135854Z",
          "iopub.status.busy": "2024-04-01T16:50:15.135562Z",
          "iopub.status.idle": "2024-04-01T16:50:15.158807Z",
          "shell.execute_reply": "2024-04-01T16:50:15.158054Z",
          "shell.execute_reply.started": "2024-04-01T16:50:15.135830Z"
        },
        "id": "ktlI296NHJWj",
        "trusted": true
      },
      "outputs": [],
      "source": [
        "class initialize_lenet_CNN(torch.nn.Module):\n",
        "    def __init__(self, number_of_classes, size_of_kernel, num_of_filters, activation_function, filter_multiplier,dropout_factor):\n",
        "        super(initialize_lenet_CNN, self).__init__()\n",
        "\n",
        "        activation_map = {\n",
        "        'ReLU': torch.nn.ReLU(),\n",
        "        'SiLU': torch.nn.SiLU(),\n",
        "        'Mish': torch.nn.Mish(),\n",
        "        'GELU': torch.nn.GELU()\n",
        "         }\n",
        "\n",
        "        #layer 1\n",
        "        self.convolutional_layer_1 = torch.nn.Conv2d(in_channels=3, out_channels=num_of_filters, kernel_size=size_of_kernel)\n",
        "        prev_number_filters = num_of_filters\n",
        "        self.size = (256-size_of_kernel)\n",
        "        self.activation_function_1 = activation_map.get(activation_function, torch.nn.ReLU())\n",
        "        self.maxpooling_layer_1 = torch.nn.MaxPool2d(kernel_size=size_of_kernel, stride=2)\n",
        "        self.size = self.size//2\n",
        "        number_filters = int(num_of_filters * filter_multiplier)\n",
        "\n",
        "        #layer 2\n",
        "        self.convolutional_layer_2 = torch.nn.Conv2d(in_channels=prev_number_filters, out_channels=number_filters, kernel_size=size_of_kernel)\n",
        "        self.size = (self.size - size_of_kernel)\n",
        "        prev_number_filters = number_filters\n",
        "        number_filters = int(number_filters * filter_multiplier)\n",
        "        self.activation_function_2 = activation_map.get(activation_function, torch.nn.ReLU())\n",
        "        self.maxpooling_layer_2 = torch.nn.MaxPool2d(kernel_size=size_of_kernel, stride=2)\n",
        "        self.size = self.size//2\n",
        "\n",
        "        #layer 3\n",
        "        self.convolutional_layer_3 = torch.nn.Conv2d(in_channels=prev_number_filters, out_channels=number_filters, kernel_size=size_of_kernel)\n",
        "        self.size = (self.size - size_of_kernel)\n",
        "        prev_number_filters = number_filters\n",
        "        number_filters = int(number_filters * filter_multiplier)\n",
        "        self.activation_function_3 = activation_map.get(activation_function, torch.nn.ReLU())\n",
        "        self.maxpooling_layer_3 = torch.nn.MaxPool2d(kernel_size=size_of_kernel, stride=2)\n",
        "        self.size = self.size//2 # 50 x 16 x 16\n",
        "\n",
        "        #layer4\n",
        "        self.convolutional_layer_4 = torch.nn.Conv2d(in_channels=prev_number_filters, out_channels=number_filters, kernel_size=size_of_kernel)\n",
        "        self.size = (self.size - size_of_kernel) # 50 x 14 x 14\n",
        "        prev_number_filters = number_filters\n",
        "        number_filters = int(number_filters * filter_multiplier)\n",
        "        self.activation_function_4 = activation_map.get(activation_function, torch.nn.ReLU())\n",
        "        self.maxpooling_layer_4 = torch.nn.MaxPool2d(kernel_size=size_of_kernel, stride=2)\n",
        "        self.size = self.size//2\n",
        "\n",
        "        #layer 5\n",
        "        self.convolutional_layer_5 = torch.nn.Conv2d(in_channels=prev_number_filters, out_channels=number_filters, kernel_size=size_of_kernel)\n",
        "        self.size = (self.size - size_of_kernel)\n",
        "        prev_number_filters = number_filters\n",
        "        stride_size=2\n",
        "        self.activation_function_5 = activation_map.get(activation_function, torch.nn.ReLU())\n",
        "        self.maxpooling_layer_5 = torch.nn.MaxPool2d(kernel_size=size_of_kernel, stride=stride_size)\n",
        "        self.size = self.size//stride_size\n",
        "\n",
        "\n",
        "        #Need to calculate the in_features.\n",
        "        self.size = self.size * self.size * prev_number_filters\n",
        "        size__=self.size\n",
        "        self.fully_connected_layer_1 = torch.nn.Linear(in_features=size__, out_features=size__)\n",
        "        self.dropout_layer_first = torch.nn.Dropout(dropout_factor)\n",
        "        self.fully_connected_layer_2 = torch.nn.Linear(in_features=size__, out_features=number_of_classes)\n",
        "        dimension_=1\n",
        "        self.dropout_layer_second = torch.nn.Dropout(dropout_factor)\n",
        "        self._softmax = torch.nn.LogSoftmax(dim=dimension_)\n",
        "\n",
        "    def forward(self,data_x):\n",
        "      return fn(self.convolutional_layer_1 ,self.activation_function_1 , self.maxpooling_layer_1 , self.convolutional_layer_2 ,self.activation_function_2 , self.maxpooling_layer_2 , self.convolutional_layer_3 , self.activation_function_3 ,  self.maxpooling_layer_3 , self.convolutional_layer_4 , self.activation_function_4 , self.maxpooling_layer_4 , self.convolutional_layer_5 ,self.activation_function_5 , self.maxpooling_layer_5 , self.fully_connected_layer_1,self.dropout_layer_first ,  self.fully_connected_layer_2,self.dropout_layer_second ,  self._softmax , data_x)\n"
      ]
    },
    {
      "cell_type": "markdown",
      "metadata": {
        "id": "lv5LOR2jHJWk"
      },
      "source": [
        "# Training the model"
      ]
    },
    {
      "cell_type": "code",
      "execution_count": null,
      "metadata": {
        "execution": {
          "iopub.execute_input": "2024-04-01T16:50:15.160431Z",
          "iopub.status.busy": "2024-04-01T16:50:15.160144Z",
          "iopub.status.idle": "2024-04-01T16:50:15.175443Z",
          "shell.execute_reply": "2024-04-01T16:50:15.174564Z",
          "shell.execute_reply.started": "2024-04-01T16:50:15.160408Z"
        },
        "id": "B2ej_fCtHJWk",
        "trusted": true
      },
      "outputs": [],
      "source": [
        "def train(convolutional_neural_network, learning_rate, epochs, train_batch_load, val_batch_load,apply_wandb_log):\n",
        "    loss_function = torch.nn.CrossEntropyLoss()\n",
        "    epoch = 0\n",
        "    optimizer = torch.optim.Adam(params=convolutional_neural_network.parameters(), lr=learning_rate, weight_decay = 1e-4)\n",
        "    while epoch < epochs:\n",
        "\n",
        "        acc_train = 0\n",
        "        loss_train = 0\n",
        "        bool__=1\n",
        "        convolutional_neural_network.train()\n",
        "        for i, (images, labels) in enumerate(train_batch_load):\n",
        "\n",
        "            images = images.to(device)\n",
        "            labels = labels.to(device)\n",
        "\n",
        "            optimizer.zero_grad()  # doing zero gradient.\n",
        "            predicted_y = convolutional_neural_network(images) #forward propogation\n",
        "            loss = loss_function(predicted_y, labels) # Calculating Loss\n",
        "            loss.backward()  # Backward Propagation\n",
        "            optimizer.step() # update rule\n",
        "\n",
        "            loss_train =loss_train + loss.item()\n",
        "\n",
        "            _, prediction = torch.max(predicted_y.data, bool__)\n",
        "            acc_train =acc_train + int(torch.sum(prediction == labels.data))\n",
        "\n",
        "        acc_train =acc_train / len(glob.glob(train_data_directory+ '/**/*.jpg' ))\n",
        "        loss_train = loss_train / len(glob.glob(train_data_directory+ '/**/*.jpg' ))\n",
        "        print(f\"Epochs : {epoch+1} Train Accuracy : {acc_train} Train Loss {loss_train}\")\n",
        "\n",
        "        with torch.no_grad():\n",
        "            test_accuracy = 0\n",
        "            test_loss = 0\n",
        "            convolutional_neural_network.eval()\n",
        "            for i, (images, labels) in enumerate(val_batch_load):\n",
        "                images= images.to(device)\n",
        "\n",
        "                labels =labels.to(device)\n",
        "                predicted_y = convolutional_neural_network(images)\n",
        "\n",
        "                loss = loss_function(predicted_y, labels)\n",
        "                test_loss =test_loss+ loss.item()\n",
        "                _, predicted = torch.max(predicted_y.data, 1)\n",
        "                test_accuracy = test_accuracy + int(torch.sum(predicted == labels.data))\n",
        "\n",
        "            test_accuracy = test_accuracy/ len(glob.glob(test_data_directory+ '/**/*.jpg' ))\n",
        "            test_loss = test_loss /  len(glob.glob(test_data_directory+ '/**/*.jpg' ))\n",
        "\n",
        "            print(f\"Epochs : {epoch+1} Validation Accuracy : {test_accuracy} Validation Loss {test_loss}\")\n",
        "            if(apply_wandb_log):\n",
        "                wandb.log({\"train_accuracy\": acc_train, \"train_loss\" : loss_train, \"val_accuracy\": test_accuracy, \"val_error\": test_loss})\n",
        "\n",
        "        epoch += 1"
      ]
    },
    {
      "cell_type": "markdown",
      "metadata": {
        "id": "m1pgMIUuHJWk"
      },
      "source": [
        "## Function to get the Test Accuracy & Test Loss"
      ]
    },
    {
      "cell_type": "code",
      "execution_count": null,
      "metadata": {
        "id": "CnX_oKNljT-P"
      },
      "outputs": [],
      "source": [
        "def test_print(convolutional_neural_network , test_data_directory,epochs,test_batch_load , loss_function , count_test ):\n",
        "    for epoch in range(epochs):\n",
        "\n",
        "        with torch.no_grad():\n",
        "            convolutional_neural_network.eval()\n",
        "            test_loss = 0\n",
        "            test_accuracy = 0\n",
        "            for i, (images, labels) in enumerate(test_batch_load):\n",
        "\n",
        "                images, labels = images.to(device), labels.to(device)\n",
        "\n",
        "                loss = loss_function(convolutional_neural_network(images), labels)\n",
        "                test_loss = test_loss +  loss.item()\n",
        "\n",
        "\n",
        "                _, predicted = torch.max(convolutional_neural_network(images).data,1)\n",
        "                test_accuracy = test_accuracy + int(torch.sum(predicted == labels.data))\n",
        "            test_accuracy = test_accuracy / count_test\n",
        "            test_loss = test_loss / count_test\n",
        "\n",
        "            print(f\"Epochs : {epoch+1} Test Accuracy : {test_accuracy} Test Loss {test_loss}\")"
      ]
    },
    {
      "cell_type": "code",
      "execution_count": null,
      "metadata": {
        "execution": {
          "iopub.execute_input": "2024-04-01T16:50:15.177128Z",
          "iopub.status.busy": "2024-04-01T16:50:15.176609Z",
          "iopub.status.idle": "2024-04-01T16:50:15.189245Z",
          "shell.execute_reply": "2024-04-01T16:50:15.188503Z",
          "shell.execute_reply.started": "2024-04-01T16:50:15.177104Z"
        },
        "id": "_aad5CJOHJWl",
        "trusted": true
      },
      "outputs": [],
      "source": [
        "def CNN_test(convolutional_neural_network, number_of_classes, test_data_directory, test_batch_size , num_of_filters, kernel_size, activation_function, filter_multiplier, learning_rate, epochs, dropout_factor , image_size):\n",
        "\n",
        "\n",
        "    transformer = transforms.Compose([\n",
        "        transforms.Resize(image_size),\n",
        "        transforms.ToTensor()\n",
        "    ])\n",
        "\n",
        "    test_Dataset = torchvision.datasets.ImageFolder(root=test_data_directory, transform=transformer)\n",
        "    test_batch_load = DataLoader(\n",
        "    test_Dataset,\n",
        "    batch_size=test_batch_size,\n",
        "    shuffle=True)\n",
        "    count_test = len(glob.glob(test_data_directory+'/**/*.jpg'))\n",
        "    print('star=>')\n",
        "    loss_function = torch.nn.CrossEntropyLoss()\n",
        "    optimizer = torch.optim.Adam(params=convolutional_neural_network.parameters(), lr=learning_rate)\n",
        "    count_test = len(glob.glob(test_data_directory+'/**/*.jpg'))\n",
        "    test_print(convolutional_neural_network , test_data_directory,epochs,test_batch_load , loss_function, count_test)"
      ]
    },
    {
      "cell_type": "code",
      "execution_count": null,
      "metadata": {
        "execution": {
          "iopub.execute_input": "2024-04-01T16:50:15.190806Z",
          "iopub.status.busy": "2024-04-01T16:50:15.190507Z",
          "iopub.status.idle": "2024-04-01T16:50:15.204371Z",
          "shell.execute_reply": "2024-04-01T16:50:15.203527Z",
          "shell.execute_reply.started": "2024-04-01T16:50:15.190784Z"
        },
        "id": "ksSQ9zH5HJWl",
        "trusted": true
      },
      "outputs": [],
      "source": [
        "def main(apply_data_augmentation ,number_of_classes, kernel_size,  train_data_directory, test_data_directory, train_batch_size, val_batch_size, test_batch_size, num_of_filters, activation_function, filter_multiplier,learning_rate, epochs, apply_wandb_log, dropout_factor , image_size):\n",
        "    mean=[0.4602, 0.4495, 0.3800]\n",
        "    print(\"start=>\")\n",
        "    std=[0.2040, 0.1984, 0.1921]\n",
        "    train_batch_load, val_batch_load, test_batch_load = data_fetch(apply_data_augmentation, train_data_directory, test_data_directory, train_batch_size, val_batch_size, test_batch_size , image_size , mean , std)\n",
        "    convolutional_neural_network = initialize_lenet_CNN(number_of_classes, kernel_size, num_of_filters, activation_function, filter_multiplier, dropout_factor)\n",
        "    convolutional_neural_network = convolutional_neural_network.to(device)\n",
        "    train(convolutional_neural_network, learning_rate, epochs, train_batch_load, val_batch_load,apply_wandb_log)\n",
        "    print(\"Done!!\")\n",
        "    return convolutional_neural_network"
      ]
    },
    {
      "cell_type": "markdown",
      "metadata": {
        "id": "R0RrFOqNHJWl"
      },
      "source": [
        "## Running Sweep"
      ]
    },
    {
      "cell_type": "code",
      "execution_count": null,
      "metadata": {
        "execution": {
          "iopub.execute_input": "2024-04-01T16:50:15.979378Z",
          "iopub.status.busy": "2024-04-01T16:50:15.979076Z",
          "iopub.status.idle": "2024-04-01T16:50:15.986802Z",
          "shell.execute_reply": "2024-04-01T16:50:15.985945Z",
          "shell.execute_reply.started": "2024-04-01T16:50:15.979352Z"
        },
        "id": "SnsD1Na5HJWl",
        "trusted": true
      },
      "outputs": [],
      "source": [
        "def sweep_():\n",
        "    train_batch_size = 64\n",
        "    test_batch_size = 16\n",
        "    val_batch_size = 16\n",
        "    number_of_classes = 10\n",
        "    kernel_size = 3\n",
        "    apply_wandb_log = True\n",
        "    apply_data_augmentation=True\n",
        "\n",
        "    parameters_by_default ={\n",
        "        'num_of_filters' : 32,\n",
        "        'activation_function' : 'ReLU',\n",
        "        'filter_multiplier' : 0.2,\n",
        "        'learning_rate' : 0.001,\n",
        "        'epochs' : 3,\n",
        "        'dropout_factor' : 0,\n",
        "        \"image_size\" : 256,\n",
        "        \"apply_data_augmentation\": True\n",
        "    }\n",
        "\n",
        "    run = wandb.init(config=parameters_by_default, project='Deep_Learning_A2')\n",
        "\n",
        "    config = wandb.config\n",
        "    img_sz=(config.image_size,config.image_size)\n",
        "    run.name = 'ac_' + config.activation_function + '_ep_' + str(config.epochs) +  '_ff_'+ str(config.filter_multiplier) + '_nf_' + str(config.num_of_filters) +'_df_'+str(config.dropout_factor)\n",
        "    main(config.apply_data_augmentation ,number_of_classes, kernel_size,  train_data_directory, test_data_directory, train_batch_size, val_batch_size, test_batch_size, config.num_of_filters, config.activation_function, 0.5,config.learning_rate, config.epochs, apply_wandb_log, config.dropout_factor , (256,256))"
      ]
    },
    {
      "cell_type": "markdown",
      "metadata": {
        "id": "dpvK4JPtuaHS"
      },
      "source": [
        "#Set up a sweep config"
      ]
    },
    {
      "cell_type": "code",
      "execution_count": null,
      "metadata": {
        "execution": {
          "iopub.execute_input": "2024-04-01T16:50:18.020672Z",
          "iopub.status.busy": "2024-04-01T16:50:18.020238Z",
          "iopub.status.idle": "2024-04-01T16:50:18.330472Z",
          "shell.execute_reply": "2024-04-01T16:50:18.329432Z",
          "shell.execute_reply.started": "2024-04-01T16:50:18.020645Z"
        },
        "id": "ALc7N0IGHJWl",
        "trusted": true
      },
      "outputs": [],
      "source": [
        "config = {\n",
        "    'name': 'cs23m013',\n",
        "    'metric': {\n",
        "        'goal': 'maximize',\n",
        "        'name': 'val_accuracy'\n",
        "        },\n",
        "    \"method\": \"random\",\n",
        "    \"project\": \"Deep_Learning_A2\",\n",
        "    \"parameters\": {\n",
        "\n",
        "         \"image_size\" : {\n",
        "            \"values\": [224, 256]\n",
        "        },\n",
        "         \"epochs\": {\n",
        "            \"values\": [5,10]\n",
        "        },\n",
        "        \"activation_function\":\n",
        "        {\n",
        "            \"values\" : [\"LeakyReLU\" ,\"Mish\", \"SiLU\", \"GELU\", \"ReLU\"]\n",
        "        },\n",
        "        \"dropout_factor\":\n",
        "        {\n",
        "            \"values\": [0 ,0.1 , 0.2 , 0.3, 0.4]\n",
        "        },\n",
        "        \"num_of_filters\": {\n",
        "            \"values\": [32, 64]\n",
        "        },\n",
        "        \"filter_multiplier\": {\n",
        "            \"values\": [0.3 , 0.4 , 0.5]\n",
        "        },\n",
        "        \"learning_rate\" : {\n",
        "            \"values\" : [0.0001, 0.0003]\n",
        "            },\n",
        "        \"apply_data_augmentation\" : {\n",
        "            \"values\" : [True]\n",
        "            },\n",
        "\n",
        "    }\n",
        "}\n"
      ]
    },
    {
      "cell_type": "markdown",
      "metadata": {
        "id": "ytY1D60xBAVy"
      },
      "source": [
        "# creating the sweep\n"
      ]
    },
    {
      "cell_type": "code",
      "execution_count": null,
      "metadata": {
        "execution": {
          "iopub.execute_input": "2024-04-01T16:50:18.332054Z",
          "iopub.status.busy": "2024-04-01T16:50:18.331682Z",
          "iopub.status.idle": "2024-04-01T17:18:09.879508Z",
          "shell.execute_reply": "2024-04-01T17:18:09.878734Z",
          "shell.execute_reply.started": "2024-04-01T16:50:18.332019Z"
        },
        "id": "1j4Y4r17HJWl",
        "trusted": true,
        "colab": {
          "base_uri": "https://localhost:8080/",
          "height": 822,
          "referenced_widgets": [
            "d4f603f974484d329594d663e963d862",
            "2376ff54d44f4e99bb8b1d10160fcbbb",
            "b57874d9e9454e9d9913a2afa6ec2330",
            "0583ec6d45504fc79ca234d4b2e0372e",
            "13e3b985db19420d9a7fdb10a64f3ddc",
            "15897cd0f0514906a2226f92f6df6d75",
            "34519912840c4c21ad58fe317ba7b827",
            "a984e24203e848df8f76ec21d16d8cce"
          ]
        },
        "outputId": "01e0cea4-7e72-4b76-d70e-9747a09dd1a3"
      },
      "outputs": [
        {
          "output_type": "stream",
          "name": "stdout",
          "text": [
            "Create sweep with ID: zktrkxoz\n",
            "Sweep URL: https://wandb.ai/cs23m013/Deep_Learning_A2/sweeps/zktrkxoz\n"
          ]
        },
        {
          "output_type": "stream",
          "name": "stderr",
          "text": [
            "\u001b[34m\u001b[1mwandb\u001b[0m: Agent Starting Run: iwxoysmw with config:\n",
            "\u001b[34m\u001b[1mwandb\u001b[0m: \tactivation_function: LeakyReLU\n",
            "\u001b[34m\u001b[1mwandb\u001b[0m: \tapply_data_augmentation: True\n",
            "\u001b[34m\u001b[1mwandb\u001b[0m: \tdropout_factor: 0.2\n",
            "\u001b[34m\u001b[1mwandb\u001b[0m: \tepochs: 5\n",
            "\u001b[34m\u001b[1mwandb\u001b[0m: \tfilter_multiplier: 0.3\n",
            "\u001b[34m\u001b[1mwandb\u001b[0m: \timage_size: 256\n",
            "\u001b[34m\u001b[1mwandb\u001b[0m: \tlearning_rate: 0.0003\n",
            "\u001b[34m\u001b[1mwandb\u001b[0m: \tnum_of_filters: 64\n",
            "\u001b[34m\u001b[1mwandb\u001b[0m: Currently logged in as: \u001b[33mcs23m013\u001b[0m. Use \u001b[1m`wandb login --relogin`\u001b[0m to force relogin\n",
            "\u001b[34m\u001b[1mwandb\u001b[0m: \u001b[33mWARNING\u001b[0m Ignored wandb.init() arg project when running a sweep.\n"
          ]
        },
        {
          "output_type": "display_data",
          "data": {
            "text/plain": [
              "<IPython.core.display.HTML object>"
            ],
            "text/html": [
              "Tracking run with wandb version 0.16.6"
            ]
          },
          "metadata": {}
        },
        {
          "output_type": "display_data",
          "data": {
            "text/plain": [
              "<IPython.core.display.HTML object>"
            ],
            "text/html": [
              "Run data is saved locally in <code>/content/wandb/run-20240406_113808-iwxoysmw</code>"
            ]
          },
          "metadata": {}
        },
        {
          "output_type": "display_data",
          "data": {
            "text/plain": [
              "<IPython.core.display.HTML object>"
            ],
            "text/html": [
              "Syncing run <strong><a href='https://wandb.ai/cs23m013/Deep_Learning_A2/runs/iwxoysmw' target=\"_blank\">driven-sweep-1</a></strong> to <a href='https://wandb.ai/cs23m013/Deep_Learning_A2' target=\"_blank\">Weights & Biases</a> (<a href='https://wandb.me/run' target=\"_blank\">docs</a>)<br/>Sweep page: <a href='https://wandb.ai/cs23m013/Deep_Learning_A2/sweeps/zktrkxoz' target=\"_blank\">https://wandb.ai/cs23m013/Deep_Learning_A2/sweeps/zktrkxoz</a>"
            ]
          },
          "metadata": {}
        },
        {
          "output_type": "display_data",
          "data": {
            "text/plain": [
              "<IPython.core.display.HTML object>"
            ],
            "text/html": [
              " View project at <a href='https://wandb.ai/cs23m013/Deep_Learning_A2' target=\"_blank\">https://wandb.ai/cs23m013/Deep_Learning_A2</a>"
            ]
          },
          "metadata": {}
        },
        {
          "output_type": "display_data",
          "data": {
            "text/plain": [
              "<IPython.core.display.HTML object>"
            ],
            "text/html": [
              " View sweep at <a href='https://wandb.ai/cs23m013/Deep_Learning_A2/sweeps/zktrkxoz' target=\"_blank\">https://wandb.ai/cs23m013/Deep_Learning_A2/sweeps/zktrkxoz</a>"
            ]
          },
          "metadata": {}
        },
        {
          "output_type": "display_data",
          "data": {
            "text/plain": [
              "<IPython.core.display.HTML object>"
            ],
            "text/html": [
              " View run at <a href='https://wandb.ai/cs23m013/Deep_Learning_A2/runs/iwxoysmw' target=\"_blank\">https://wandb.ai/cs23m013/Deep_Learning_A2/runs/iwxoysmw</a>"
            ]
          },
          "metadata": {}
        },
        {
          "output_type": "stream",
          "name": "stdout",
          "text": [
            "start=>\n",
            "Epochs : 1 Train Accuracy : 0.0 Train Loss 0.11584246158599854\n",
            "Epochs : 1 Validation Accuracy : 0.05 Validation Loss 0.11464235782623292\n",
            "Epochs : 2 Train Accuracy : 0.1 Train Loss 0.11539503335952758\n",
            "Epochs : 2 Validation Accuracy : 0.05 Validation Loss 0.11478745937347412\n",
            "Epochs : 3 Train Accuracy : 0.0 Train Loss 0.1155168056488037\n",
            "Epochs : 3 Validation Accuracy : 0.05 Validation Loss 0.11493200063705444\n",
            "Epochs : 4 Train Accuracy : 0.1 Train Loss 0.11499874591827393\n",
            "Epochs : 4 Validation Accuracy : 0.05 Validation Loss 0.11512091159820556\n",
            "Epochs : 5 Train Accuracy : 0.05 Train Loss 0.11498440504074096\n",
            "Epochs : 5 Validation Accuracy : 0.05 Validation Loss 0.11526086330413818\n",
            "Done!!\n"
          ]
        },
        {
          "output_type": "display_data",
          "data": {
            "text/plain": [
              "VBox(children=(Label(value='0.001 MB of 0.011 MB uploaded\\r'), FloatProgress(value=0.10331137016387903, max=1.…"
            ],
            "application/vnd.jupyter.widget-view+json": {
              "version_major": 2,
              "version_minor": 0,
              "model_id": "d4f603f974484d329594d663e963d862"
            }
          },
          "metadata": {}
        },
        {
          "output_type": "display_data",
          "data": {
            "text/plain": [
              "<IPython.core.display.HTML object>"
            ],
            "text/html": [
              "<style>\n",
              "    table.wandb td:nth-child(1) { padding: 0 10px; text-align: left ; width: auto;} td:nth-child(2) {text-align: left ; width: 100%}\n",
              "    .wandb-row { display: flex; flex-direction: row; flex-wrap: wrap; justify-content: flex-start; width: 100% }\n",
              "    .wandb-col { display: flex; flex-direction: column; flex-basis: 100%; flex: 1; padding: 10px; }\n",
              "    </style>\n",
              "<div class=\"wandb-row\"><div class=\"wandb-col\"><h3>Run history:</h3><br/><table class=\"wandb\"><tr><td>train_accuracy</td><td>▁█▁█▅</td></tr><tr><td>train_loss</td><td>█▄▅▁▁</td></tr><tr><td>val_accuracy</td><td>▁▁▁▁▁</td></tr><tr><td>val_error</td><td>▁▃▄▆█</td></tr></table><br/></div><div class=\"wandb-col\"><h3>Run summary:</h3><br/><table class=\"wandb\"><tr><td>train_accuracy</td><td>0.05</td></tr><tr><td>train_loss</td><td>0.11498</td></tr><tr><td>val_accuracy</td><td>0.05</td></tr><tr><td>val_error</td><td>0.11526</td></tr></table><br/></div></div>"
            ]
          },
          "metadata": {}
        },
        {
          "output_type": "display_data",
          "data": {
            "text/plain": [
              "<IPython.core.display.HTML object>"
            ],
            "text/html": [
              " View run <strong style=\"color:#cdcd00\">driven-sweep-1</strong> at: <a href='https://wandb.ai/cs23m013/Deep_Learning_A2/runs/iwxoysmw' target=\"_blank\">https://wandb.ai/cs23m013/Deep_Learning_A2/runs/iwxoysmw</a><br/> View project at: <a href='https://wandb.ai/cs23m013/Deep_Learning_A2' target=\"_blank\">https://wandb.ai/cs23m013/Deep_Learning_A2</a><br/>Synced 5 W&B file(s), 0 media file(s), 0 artifact file(s) and 0 other file(s)"
            ]
          },
          "metadata": {}
        },
        {
          "output_type": "display_data",
          "data": {
            "text/plain": [
              "<IPython.core.display.HTML object>"
            ],
            "text/html": [
              "Find logs at: <code>./wandb/run-20240406_113808-iwxoysmw/logs</code>"
            ]
          },
          "metadata": {}
        }
      ],
      "source": [
        "sweep_id = wandb.sweep(config, project=\"Deep_Learning_A2\")\n",
        "wandb.agent(sweep_id, function=sweep_, count=1)"
      ]
    },
    {
      "cell_type": "markdown",
      "metadata": {
        "id": "0mMuCuFMHJWm"
      },
      "source": [
        "#Testing on the best hyperparameters"
      ]
    },
    {
      "cell_type": "code",
      "execution_count": null,
      "metadata": {
        "execution": {
          "iopub.execute_input": "2024-04-01T17:20:38.215336Z",
          "iopub.status.busy": "2024-04-01T17:20:38.214967Z",
          "iopub.status.idle": "2024-04-01T17:20:38.222220Z",
          "shell.execute_reply": "2024-04-01T17:20:38.221256Z",
          "shell.execute_reply.started": "2024-04-01T17:20:38.215304Z"
        },
        "id": "7zIY8dFLHJWm",
        "trusted": true
      },
      "outputs": [],
      "source": [
        "def best_model(apply_data_augmentation ,test_batch_size ,train_batch_size , val_batch_size , number_of_classes  , kernel_size  , num_of_filters  , filter_multiplier  , learning_rate   ,epochs  ,dropout_factor  ,  activation_function  , apply_wandb_log , image_size):\n",
        "    convolutional_neural_network = main(apply_data_augmentation ,number_of_classes, kernel_size,  train_data_directory, test_data_directory, train_batch_size, val_batch_size, test_batch_size, num_of_filters, activation_function, filter_multiplier, learning_rate, epochs, apply_wandb_log, dropout_factor , image_size)\n",
        "    CNN_test(convolutional_neural_network, number_of_classes, test_data_directory, test_batch_size , num_of_filters, kernel_size, activation_function, filter_multiplier, learning_rate, epochs, dropout_factor ,image_size)"
      ]
    },
    {
      "cell_type": "code",
      "execution_count": null,
      "metadata": {
        "execution": {
          "iopub.execute_input": "2024-04-01T17:20:38.223675Z",
          "iopub.status.busy": "2024-04-01T17:20:38.223394Z",
          "iopub.status.idle": "2024-04-01T17:35:23.646547Z",
          "shell.execute_reply": "2024-04-01T17:35:23.645563Z",
          "shell.execute_reply.started": "2024-04-01T17:20:38.223651Z"
        },
        "id": "Aerzsyw9w8h3",
        "trusted": true
      },
      "outputs": [],
      "source": [
        "best_model(apply_data_augmentation=True , test_batch_size = 16 ,train_batch_size = 64 , val_batch_size = 16 , number_of_classes = 10 , kernel_size = 3 , num_of_filters = 32 , filter_multiplier = 1 , learning_rate = 0.001  ,epochs = 10 ,dropout_factor = 0.3 ,  activation_function = 'GELU' , apply_wandb_log = False , image_size=(256,256))"
      ]
    },
    {
      "cell_type": "markdown",
      "source": [
        "#Plotting 3 X 10 images"
      ],
      "metadata": {
        "id": "xYBZSPbXNZXR"
      }
    },
    {
      "cell_type": "code",
      "source": [
        "# classes=('Amphibia','Animalia','Arachnida','Aves','Fungi','Insecta','Mammalia','Mollusca','Plantae','Reptilia')"
      ],
      "metadata": {
        "id": "BlZpNgj4NJtg"
      },
      "execution_count": null,
      "outputs": []
    },
    {
      "cell_type": "code",
      "source": [
        "# def my_plot_model(apply_data_augmentation ,test_batch_size ,train_batch_size , val_batch_size , number_of_classes  , kernel_size  , num_of_filters  , filter_multiplier  , learning_rate   ,epochs  ,dropout_factor  ,  activation_function  , apply_wandb_log , image_size):\n",
        "#     return main(apply_data_augmentation ,number_of_classes, kernel_size,  train_data_directory, test_data_directory, train_batch_size, val_batch_size, test_batch_size, num_of_filters, activation_function, filter_multiplier, learning_rate, epochs, apply_wandb_log, dropout_factor , image_size)"
      ],
      "metadata": {
        "id": "RdxrklEwNIU2"
      },
      "execution_count": null,
      "outputs": []
    },
    {
      "cell_type": "code",
      "source": [
        "# model_plot=my_plot_model(apply_data_augmentation=True , test_batch_size = 16 ,train_batch_size = 64 , val_batch_size = 16 , number_of_classes = 10 , kernel_size = 3 , num_of_filters = 32 , filter_multiplier = 1 , learning_rate = 0.001  ,epochs = 1 ,dropout_factor = 0.3 ,  activation_function = 'GELU' , apply_wandb_log = False , image_size=(256,256))"
      ],
      "metadata": {
        "id": "n5AsTVh9ND2c"
      },
      "execution_count": null,
      "outputs": []
    },
    {
      "cell_type": "code",
      "source": [
        "# def trans_form_image_dataset(image_size=(256, 256)):\n",
        "#           transformer = transforms.Compose([\n",
        "#                       transforms.Resize(image_size),\n",
        "#               transforms.ToTensor(),\n",
        "#                   ])\n",
        "#           test_Dataset = torchvision.datasets.ImageFolder(root=test_data_directory, transform=transformer)\n",
        "#           return test_Dataset"
      ],
      "metadata": {
        "id": "I18xZfT1NXrO"
      },
      "execution_count": null,
      "outputs": []
    },
    {
      "cell_type": "code",
      "source": [
        "# model=model_plot\n",
        "# loader_val = DataLoader(trans_form_image_dataset((256, 256)),16,True)\n",
        "# model.eval()\n",
        "# pridicted_label = []\n",
        "# actual_label = []\n",
        "# with torch.no_grad():\n",
        "#     for images, _ in loader_val:\n",
        "#         images = images.to(device)\n",
        "#         outputs = model(images)\n",
        "#         _, predicted = torch.max(outputs, 1)\n",
        "#         pridicted_label.extend(predicted.cpu().numpy())\n",
        "\n",
        "\n",
        "# class_of_images = [[] for _ in range(len(loader_val.dataset.classes))]\n",
        "# image_count = [0] * len(class_of_images)\n",
        "\n",
        "# with torch.no_grad():\n",
        "#     for img, label in loader_val:\n",
        "#         for image, label in zip(img, label):\n",
        "#             if image_count[label] <= 2:\n",
        "#                 class_of_images[label].append(image)\n",
        "#                 actual_label.append(label)\n",
        "#                 image_count[label] = image_count[label]+  1\n",
        "\n",
        "# label_names=classes\n",
        "# fig, axs = plt.subplots(10, 3, figsize=(15, 30))\n",
        "# fig.tight_layout(pad=3.0)\n",
        "\n",
        "# for idx_i in range(len(class_of_images)):\n",
        "#     idx_j = 0\n",
        "#     while idx_j < 3:\n",
        "#         img = class_of_images[idx_i][idx_j].permute(1, 2, 0)\n",
        "#         predicted_label = label_names[predicted_label[idx_i * 3 + idx_j]]\n",
        "#         actual_label = label_names[actual_label[idx_i]]\n",
        "#         axs[idx_i, idx_j].imshow(img)\n",
        "#         axs[idx_i, idx_j].set_title(f\"Actual: {actual_label} \\n Predicted: {predicted_label}\", fontsize=15, color='black', backgroundcolor='lightgrey', pad=11)\n",
        "#         axs[idx_i, idx_j].set_xticks([])\n",
        "#         axs[idx_i, idx_j].set_yticks([])\n",
        "#         axs[idx_i, idx_j].spines['top'].set_color('none')\n",
        "#         axs[idx_i, idx_j].spines['bottom'].set_color('none')\n",
        "#         axs[idx_i, idx_j].spines['left'].set_color('none')\n",
        "#         axs[idx_i, idx_j].spines['right'].set_color('none')\n",
        "#         axs[idx_i, idx_j].tick_params(axis='both', which='both', length=0)\n",
        "#         axs[idx_i, idx_j].set_aspect('equal')\n",
        "#         axs[idx_i, idx_j].grid(color='grey', linestyle='--', linewidth=0.5)\n",
        "#         idx_j = idx_j + 1\n",
        "\n",
        "# plt.show()"
      ],
      "metadata": {
        "id": "LemwyEjTM0R2"
      },
      "execution_count": null,
      "outputs": []
    },
    {
      "cell_type": "code",
      "source": [],
      "metadata": {
        "id": "kAWeqQZsOR2R"
      },
      "execution_count": null,
      "outputs": []
    }
  ],
  "metadata": {
    "accelerator": "GPU",
    "colab": {
      "gpuType": "T4",
      "provenance": []
    },
    "kaggle": {
      "accelerator": "gpu",
      "dataSources": [
        {
          "datasetId": 4692891,
          "sourceId": 7974589,
          "sourceType": "datasetVersion"
        }
      ],
      "dockerImageVersionId": 30674,
      "isGpuEnabled": true,
      "isInternetEnabled": true,
      "language": "python",
      "sourceType": "notebook"
    },
    "kernelspec": {
      "display_name": "Python 3",
      "language": "python",
      "name": "python3"
    },
    "language_info": {
      "codemirror_mode": {
        "name": "ipython",
        "version": 3
      },
      "file_extension": ".py",
      "mimetype": "text/x-python",
      "name": "python",
      "nbconvert_exporter": "python",
      "pygments_lexer": "ipython3",
      "version": "3.10.13"
    },
    "widgets": {
      "application/vnd.jupyter.widget-state+json": {
        "d4f603f974484d329594d663e963d862": {
          "model_module": "@jupyter-widgets/controls",
          "model_name": "VBoxModel",
          "model_module_version": "1.5.0",
          "state": {
            "_dom_classes": [],
            "_model_module": "@jupyter-widgets/controls",
            "_model_module_version": "1.5.0",
            "_model_name": "VBoxModel",
            "_view_count": null,
            "_view_module": "@jupyter-widgets/controls",
            "_view_module_version": "1.5.0",
            "_view_name": "VBoxView",
            "box_style": "",
            "children": [
              "IPY_MODEL_2376ff54d44f4e99bb8b1d10160fcbbb",
              "IPY_MODEL_b57874d9e9454e9d9913a2afa6ec2330"
            ],
            "layout": "IPY_MODEL_0583ec6d45504fc79ca234d4b2e0372e"
          }
        },
        "2376ff54d44f4e99bb8b1d10160fcbbb": {
          "model_module": "@jupyter-widgets/controls",
          "model_name": "LabelModel",
          "model_module_version": "1.5.0",
          "state": {
            "_dom_classes": [],
            "_model_module": "@jupyter-widgets/controls",
            "_model_module_version": "1.5.0",
            "_model_name": "LabelModel",
            "_view_count": null,
            "_view_module": "@jupyter-widgets/controls",
            "_view_module_version": "1.5.0",
            "_view_name": "LabelView",
            "description": "",
            "description_tooltip": null,
            "layout": "IPY_MODEL_13e3b985db19420d9a7fdb10a64f3ddc",
            "placeholder": "​",
            "style": "IPY_MODEL_15897cd0f0514906a2226f92f6df6d75",
            "value": "0.011 MB of 0.011 MB uploaded\r"
          }
        },
        "b57874d9e9454e9d9913a2afa6ec2330": {
          "model_module": "@jupyter-widgets/controls",
          "model_name": "FloatProgressModel",
          "model_module_version": "1.5.0",
          "state": {
            "_dom_classes": [],
            "_model_module": "@jupyter-widgets/controls",
            "_model_module_version": "1.5.0",
            "_model_name": "FloatProgressModel",
            "_view_count": null,
            "_view_module": "@jupyter-widgets/controls",
            "_view_module_version": "1.5.0",
            "_view_name": "ProgressView",
            "bar_style": "",
            "description": "",
            "description_tooltip": null,
            "layout": "IPY_MODEL_34519912840c4c21ad58fe317ba7b827",
            "max": 1,
            "min": 0,
            "orientation": "horizontal",
            "style": "IPY_MODEL_a984e24203e848df8f76ec21d16d8cce",
            "value": 1
          }
        },
        "0583ec6d45504fc79ca234d4b2e0372e": {
          "model_module": "@jupyter-widgets/base",
          "model_name": "LayoutModel",
          "model_module_version": "1.2.0",
          "state": {
            "_model_module": "@jupyter-widgets/base",
            "_model_module_version": "1.2.0",
            "_model_name": "LayoutModel",
            "_view_count": null,
            "_view_module": "@jupyter-widgets/base",
            "_view_module_version": "1.2.0",
            "_view_name": "LayoutView",
            "align_content": null,
            "align_items": null,
            "align_self": null,
            "border": null,
            "bottom": null,
            "display": null,
            "flex": null,
            "flex_flow": null,
            "grid_area": null,
            "grid_auto_columns": null,
            "grid_auto_flow": null,
            "grid_auto_rows": null,
            "grid_column": null,
            "grid_gap": null,
            "grid_row": null,
            "grid_template_areas": null,
            "grid_template_columns": null,
            "grid_template_rows": null,
            "height": null,
            "justify_content": null,
            "justify_items": null,
            "left": null,
            "margin": null,
            "max_height": null,
            "max_width": null,
            "min_height": null,
            "min_width": null,
            "object_fit": null,
            "object_position": null,
            "order": null,
            "overflow": null,
            "overflow_x": null,
            "overflow_y": null,
            "padding": null,
            "right": null,
            "top": null,
            "visibility": null,
            "width": null
          }
        },
        "13e3b985db19420d9a7fdb10a64f3ddc": {
          "model_module": "@jupyter-widgets/base",
          "model_name": "LayoutModel",
          "model_module_version": "1.2.0",
          "state": {
            "_model_module": "@jupyter-widgets/base",
            "_model_module_version": "1.2.0",
            "_model_name": "LayoutModel",
            "_view_count": null,
            "_view_module": "@jupyter-widgets/base",
            "_view_module_version": "1.2.0",
            "_view_name": "LayoutView",
            "align_content": null,
            "align_items": null,
            "align_self": null,
            "border": null,
            "bottom": null,
            "display": null,
            "flex": null,
            "flex_flow": null,
            "grid_area": null,
            "grid_auto_columns": null,
            "grid_auto_flow": null,
            "grid_auto_rows": null,
            "grid_column": null,
            "grid_gap": null,
            "grid_row": null,
            "grid_template_areas": null,
            "grid_template_columns": null,
            "grid_template_rows": null,
            "height": null,
            "justify_content": null,
            "justify_items": null,
            "left": null,
            "margin": null,
            "max_height": null,
            "max_width": null,
            "min_height": null,
            "min_width": null,
            "object_fit": null,
            "object_position": null,
            "order": null,
            "overflow": null,
            "overflow_x": null,
            "overflow_y": null,
            "padding": null,
            "right": null,
            "top": null,
            "visibility": null,
            "width": null
          }
        },
        "15897cd0f0514906a2226f92f6df6d75": {
          "model_module": "@jupyter-widgets/controls",
          "model_name": "DescriptionStyleModel",
          "model_module_version": "1.5.0",
          "state": {
            "_model_module": "@jupyter-widgets/controls",
            "_model_module_version": "1.5.0",
            "_model_name": "DescriptionStyleModel",
            "_view_count": null,
            "_view_module": "@jupyter-widgets/base",
            "_view_module_version": "1.2.0",
            "_view_name": "StyleView",
            "description_width": ""
          }
        },
        "34519912840c4c21ad58fe317ba7b827": {
          "model_module": "@jupyter-widgets/base",
          "model_name": "LayoutModel",
          "model_module_version": "1.2.0",
          "state": {
            "_model_module": "@jupyter-widgets/base",
            "_model_module_version": "1.2.0",
            "_model_name": "LayoutModel",
            "_view_count": null,
            "_view_module": "@jupyter-widgets/base",
            "_view_module_version": "1.2.0",
            "_view_name": "LayoutView",
            "align_content": null,
            "align_items": null,
            "align_self": null,
            "border": null,
            "bottom": null,
            "display": null,
            "flex": null,
            "flex_flow": null,
            "grid_area": null,
            "grid_auto_columns": null,
            "grid_auto_flow": null,
            "grid_auto_rows": null,
            "grid_column": null,
            "grid_gap": null,
            "grid_row": null,
            "grid_template_areas": null,
            "grid_template_columns": null,
            "grid_template_rows": null,
            "height": null,
            "justify_content": null,
            "justify_items": null,
            "left": null,
            "margin": null,
            "max_height": null,
            "max_width": null,
            "min_height": null,
            "min_width": null,
            "object_fit": null,
            "object_position": null,
            "order": null,
            "overflow": null,
            "overflow_x": null,
            "overflow_y": null,
            "padding": null,
            "right": null,
            "top": null,
            "visibility": null,
            "width": null
          }
        },
        "a984e24203e848df8f76ec21d16d8cce": {
          "model_module": "@jupyter-widgets/controls",
          "model_name": "ProgressStyleModel",
          "model_module_version": "1.5.0",
          "state": {
            "_model_module": "@jupyter-widgets/controls",
            "_model_module_version": "1.5.0",
            "_model_name": "ProgressStyleModel",
            "_view_count": null,
            "_view_module": "@jupyter-widgets/base",
            "_view_module_version": "1.2.0",
            "_view_name": "StyleView",
            "bar_color": null,
            "description_width": ""
          }
        }
      }
    }
  },
  "nbformat": 4,
  "nbformat_minor": 0
}