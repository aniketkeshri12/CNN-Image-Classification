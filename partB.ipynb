{
  "metadata": {
    "kernelspec": {
      "language": "python",
      "display_name": "Python 3",
      "name": "python3"
    },
    "language_info": {
      "name": "python",
      "version": "3.7.12",
      "mimetype": "text/x-python",
      "codemirror_mode": {
        "name": "ipython",
        "version": 3
      },
      "pygments_lexer": "ipython3",
      "nbconvert_exporter": "python",
      "file_extension": ".py"
    },
    "colab": {
      "provenance": []
    }
  },
  "nbformat_minor": 0,
  "nbformat": 4,
  "cells": [
    {
      "cell_type": "markdown",
      "source": [
        "#Importing libraries"
      ],
      "metadata": {
        "id": "msLA5ruoIsGR"
      }
    },
    {
      "cell_type": "code",
      "source": [
        "import glob\n",
        "import torch\n",
        "import torchvision.transforms as transforms\n",
        "import torchvision\n",
        "import matplotlib.pyplot as plt\n",
        "import numpy as np\n",
        "import argparse"
      ],
      "metadata": {
        "id": "h3EOtNO5hCQw"
      },
      "execution_count": null,
      "outputs": []
    },
    {
      "cell_type": "code",
      "source": [
        "!pip install wandb"
      ],
      "metadata": {
        "colab": {
          "base_uri": "https://localhost:8080/"
        },
        "id": "DLsw6ay7Pe9s",
        "outputId": "a47e7433-6de0-4de7-9f9d-bd0262c549db"
      },
      "execution_count": null,
      "outputs": [
        {
          "output_type": "stream",
          "name": "stdout",
          "text": [
            "Collecting wandb\n",
            "  Downloading wandb-0.16.6-py3-none-any.whl (2.2 MB)\n",
            "\u001b[2K     \u001b[90m━━━━━━━━━━━━━━━━━━━━━━━━━━━━━━━━━━━━━━━━\u001b[0m \u001b[32m2.2/2.2 MB\u001b[0m \u001b[31m23.3 MB/s\u001b[0m eta \u001b[36m0:00:00\u001b[0m\n",
            "\u001b[?25hRequirement already satisfied: Click!=8.0.0,>=7.1 in /usr/local/lib/python3.10/dist-packages (from wandb) (8.1.7)\n",
            "Collecting GitPython!=3.1.29,>=1.0.0 (from wandb)\n",
            "  Downloading GitPython-3.1.43-py3-none-any.whl (207 kB)\n",
            "\u001b[2K     \u001b[90m━━━━━━━━━━━━━━━━━━━━━━━━━━━━━━━━━━━━━━━━\u001b[0m \u001b[32m207.3/207.3 kB\u001b[0m \u001b[31m19.7 MB/s\u001b[0m eta \u001b[36m0:00:00\u001b[0m\n",
            "\u001b[?25hRequirement already satisfied: requests<3,>=2.0.0 in /usr/local/lib/python3.10/dist-packages (from wandb) (2.31.0)\n",
            "Requirement already satisfied: psutil>=5.0.0 in /usr/local/lib/python3.10/dist-packages (from wandb) (5.9.5)\n",
            "Collecting sentry-sdk>=1.0.0 (from wandb)\n",
            "  Downloading sentry_sdk-1.44.1-py2.py3-none-any.whl (266 kB)\n",
            "\u001b[2K     \u001b[90m━━━━━━━━━━━━━━━━━━━━━━━━━━━━━━━━━━━━━━━━\u001b[0m \u001b[32m266.1/266.1 kB\u001b[0m \u001b[31m23.6 MB/s\u001b[0m eta \u001b[36m0:00:00\u001b[0m\n",
            "\u001b[?25hCollecting docker-pycreds>=0.4.0 (from wandb)\n",
            "  Downloading docker_pycreds-0.4.0-py2.py3-none-any.whl (9.0 kB)\n",
            "Requirement already satisfied: PyYAML in /usr/local/lib/python3.10/dist-packages (from wandb) (6.0.1)\n",
            "Collecting setproctitle (from wandb)\n",
            "  Downloading setproctitle-1.3.3-cp310-cp310-manylinux_2_5_x86_64.manylinux1_x86_64.manylinux_2_17_x86_64.manylinux2014_x86_64.whl (30 kB)\n",
            "Requirement already satisfied: setuptools in /usr/local/lib/python3.10/dist-packages (from wandb) (67.7.2)\n",
            "Requirement already satisfied: appdirs>=1.4.3 in /usr/local/lib/python3.10/dist-packages (from wandb) (1.4.4)\n",
            "Requirement already satisfied: protobuf!=4.21.0,<5,>=3.19.0 in /usr/local/lib/python3.10/dist-packages (from wandb) (3.20.3)\n",
            "Requirement already satisfied: six>=1.4.0 in /usr/local/lib/python3.10/dist-packages (from docker-pycreds>=0.4.0->wandb) (1.16.0)\n",
            "Collecting gitdb<5,>=4.0.1 (from GitPython!=3.1.29,>=1.0.0->wandb)\n",
            "  Downloading gitdb-4.0.11-py3-none-any.whl (62 kB)\n",
            "\u001b[2K     \u001b[90m━━━━━━━━━━━━━━━━━━━━━━━━━━━━━━━━━━━━━━━━\u001b[0m \u001b[32m62.7/62.7 kB\u001b[0m \u001b[31m6.6 MB/s\u001b[0m eta \u001b[36m0:00:00\u001b[0m\n",
            "\u001b[?25hRequirement already satisfied: charset-normalizer<4,>=2 in /usr/local/lib/python3.10/dist-packages (from requests<3,>=2.0.0->wandb) (3.3.2)\n",
            "Requirement already satisfied: idna<4,>=2.5 in /usr/local/lib/python3.10/dist-packages (from requests<3,>=2.0.0->wandb) (3.6)\n",
            "Requirement already satisfied: urllib3<3,>=1.21.1 in /usr/local/lib/python3.10/dist-packages (from requests<3,>=2.0.0->wandb) (2.0.7)\n",
            "Requirement already satisfied: certifi>=2017.4.17 in /usr/local/lib/python3.10/dist-packages (from requests<3,>=2.0.0->wandb) (2024.2.2)\n",
            "Collecting smmap<6,>=3.0.1 (from gitdb<5,>=4.0.1->GitPython!=3.1.29,>=1.0.0->wandb)\n",
            "  Downloading smmap-5.0.1-py3-none-any.whl (24 kB)\n",
            "Installing collected packages: smmap, setproctitle, sentry-sdk, docker-pycreds, gitdb, GitPython, wandb\n",
            "Successfully installed GitPython-3.1.43 docker-pycreds-0.4.0 gitdb-4.0.11 sentry-sdk-1.44.1 setproctitle-1.3.3 smmap-5.0.1 wandb-0.16.6\n"
          ]
        }
      ]
    },
    {
      "cell_type": "code",
      "source": [
        "from google.colab import drive\n",
        "drive.mount('/content/drive')"
      ],
      "metadata": {
        "colab": {
          "base_uri": "https://localhost:8080/"
        },
        "id": "CqkiNmYqPdzY",
        "outputId": "309b5ffe-df77-4547-9be9-563deecba3bc"
      },
      "execution_count": null,
      "outputs": [
        {
          "output_type": "stream",
          "name": "stdout",
          "text": [
            "Mounted at /content/drive\n"
          ]
        }
      ]
    },
    {
      "cell_type": "code",
      "source": [
        "import wandb\n",
        "from torchvision.datasets import FashionMNIST\n",
        "from torchvision import datasets, models\n",
        "from torchvision.datasets.utils import download_url\n",
        "from torch.utils.data import DataLoader, ConcatDataset, random_split"
      ],
      "metadata": {
        "id": "CINvAMauOvaM"
      },
      "execution_count": null,
      "outputs": []
    },
    {
      "cell_type": "code",
      "source": [
        "wandb.login(key='5157ae11e5d243722bc57912a56718dc8ef2f734') #Wandb login with my key"
      ],
      "metadata": {
        "colab": {
          "base_uri": "https://localhost:8080/"
        },
        "id": "iHdBD4SJhb7m",
        "outputId": "ab6c4935-8ff4-47af-81ba-2290e30d8dd2"
      },
      "execution_count": null,
      "outputs": [
        {
          "output_type": "stream",
          "name": "stderr",
          "text": [
            "\u001b[34m\u001b[1mwandb\u001b[0m: W&B API key is configured. Use \u001b[1m`wandb login --relogin`\u001b[0m to force relogin\n",
            "\u001b[34m\u001b[1mwandb\u001b[0m: \u001b[33mWARNING\u001b[0m If you're specifying your api key in code, ensure this code is not shared publicly.\n",
            "\u001b[34m\u001b[1mwandb\u001b[0m: \u001b[33mWARNING\u001b[0m Consider setting the WANDB_API_KEY environment variable, or running `wandb login` from the command line.\n",
            "\u001b[34m\u001b[1mwandb\u001b[0m: Appending key for api.wandb.ai to your netrc file: /root/.netrc\n"
          ]
        },
        {
          "output_type": "execute_result",
          "data": {
            "text/plain": [
              "True"
            ]
          },
          "metadata": {},
          "execution_count": 5
        }
      ]
    },
    {
      "cell_type": "markdown",
      "source": [
        "#Dataset Link"
      ],
      "metadata": {
        "id": "foRDJTt8hnlA"
      }
    },
    {
      "cell_type": "code",
      "source": [
        "train_data_directory = '/content/drive/MyDrive/Deeplearning/inaturalist_12K/train/'\n",
        "test_data_directory = '/content/drive/MyDrive/Deeplearning/inaturalist_12K/val/'"
      ],
      "metadata": {
        "id": "JLiTePrWhnD-"
      },
      "execution_count": null,
      "outputs": []
    },
    {
      "cell_type": "markdown",
      "source": [
        "### Importing the pretrained VGG Net16 model"
      ],
      "metadata": {
        "id": "QVKGPFYoOvaN"
      }
    },
    {
      "cell_type": "code",
      "source": [
        "vggnet = torchvision.models.vgg16(weights=True)\n",
        "vggnet"
      ],
      "metadata": {
        "execution": {
          "iopub.status.busy": "2023-04-12T02:45:12.226676Z",
          "iopub.execute_input": "2023-04-12T02:45:12.227090Z",
          "iopub.status.idle": "2023-04-12T02:45:20.074349Z",
          "shell.execute_reply.started": "2023-04-12T02:45:12.227055Z",
          "shell.execute_reply": "2023-04-12T02:45:20.073432Z"
        },
        "trusted": true,
        "colab": {
          "base_uri": "https://localhost:8080/"
        },
        "id": "JHcMasUiOvaO",
        "outputId": "97e27d5b-ae4d-477c-d687-3b6c5281e4f4"
      },
      "execution_count": null,
      "outputs": [
        {
          "output_type": "stream",
          "name": "stderr",
          "text": [
            "/usr/local/lib/python3.10/dist-packages/torchvision/models/_utils.py:223: UserWarning: Arguments other than a weight enum or `None` for 'weights' are deprecated since 0.13 and may be removed in the future. The current behavior is equivalent to passing `weights=VGG16_Weights.IMAGENET1K_V1`. You can also use `weights=VGG16_Weights.DEFAULT` to get the most up-to-date weights.\n",
            "  warnings.warn(msg)\n",
            "Downloading: \"https://download.pytorch.org/models/vgg16-397923af.pth\" to /root/.cache/torch/hub/checkpoints/vgg16-397923af.pth\n",
            "100%|██████████| 528M/528M [00:10<00:00, 53.1MB/s]\n"
          ]
        },
        {
          "output_type": "execute_result",
          "data": {
            "text/plain": [
              "VGG(\n",
              "  (features): Sequential(\n",
              "    (0): Conv2d(3, 64, kernel_size=(3, 3), stride=(1, 1), padding=(1, 1))\n",
              "    (1): ReLU(inplace=True)\n",
              "    (2): Conv2d(64, 64, kernel_size=(3, 3), stride=(1, 1), padding=(1, 1))\n",
              "    (3): ReLU(inplace=True)\n",
              "    (4): MaxPool2d(kernel_size=2, stride=2, padding=0, dilation=1, ceil_mode=False)\n",
              "    (5): Conv2d(64, 128, kernel_size=(3, 3), stride=(1, 1), padding=(1, 1))\n",
              "    (6): ReLU(inplace=True)\n",
              "    (7): Conv2d(128, 128, kernel_size=(3, 3), stride=(1, 1), padding=(1, 1))\n",
              "    (8): ReLU(inplace=True)\n",
              "    (9): MaxPool2d(kernel_size=2, stride=2, padding=0, dilation=1, ceil_mode=False)\n",
              "    (10): Conv2d(128, 256, kernel_size=(3, 3), stride=(1, 1), padding=(1, 1))\n",
              "    (11): ReLU(inplace=True)\n",
              "    (12): Conv2d(256, 256, kernel_size=(3, 3), stride=(1, 1), padding=(1, 1))\n",
              "    (13): ReLU(inplace=True)\n",
              "    (14): Conv2d(256, 256, kernel_size=(3, 3), stride=(1, 1), padding=(1, 1))\n",
              "    (15): ReLU(inplace=True)\n",
              "    (16): MaxPool2d(kernel_size=2, stride=2, padding=0, dilation=1, ceil_mode=False)\n",
              "    (17): Conv2d(256, 512, kernel_size=(3, 3), stride=(1, 1), padding=(1, 1))\n",
              "    (18): ReLU(inplace=True)\n",
              "    (19): Conv2d(512, 512, kernel_size=(3, 3), stride=(1, 1), padding=(1, 1))\n",
              "    (20): ReLU(inplace=True)\n",
              "    (21): Conv2d(512, 512, kernel_size=(3, 3), stride=(1, 1), padding=(1, 1))\n",
              "    (22): ReLU(inplace=True)\n",
              "    (23): MaxPool2d(kernel_size=2, stride=2, padding=0, dilation=1, ceil_mode=False)\n",
              "    (24): Conv2d(512, 512, kernel_size=(3, 3), stride=(1, 1), padding=(1, 1))\n",
              "    (25): ReLU(inplace=True)\n",
              "    (26): Conv2d(512, 512, kernel_size=(3, 3), stride=(1, 1), padding=(1, 1))\n",
              "    (27): ReLU(inplace=True)\n",
              "    (28): Conv2d(512, 512, kernel_size=(3, 3), stride=(1, 1), padding=(1, 1))\n",
              "    (29): ReLU(inplace=True)\n",
              "    (30): MaxPool2d(kernel_size=2, stride=2, padding=0, dilation=1, ceil_mode=False)\n",
              "  )\n",
              "  (avgpool): AdaptiveAvgPool2d(output_size=(7, 7))\n",
              "  (classifier): Sequential(\n",
              "    (0): Linear(in_features=25088, out_features=4096, bias=True)\n",
              "    (1): ReLU(inplace=True)\n",
              "    (2): Dropout(p=0.5, inplace=False)\n",
              "    (3): Linear(in_features=4096, out_features=4096, bias=True)\n",
              "    (4): ReLU(inplace=True)\n",
              "    (5): Dropout(p=0.5, inplace=False)\n",
              "    (6): Linear(in_features=4096, out_features=1000, bias=True)\n",
              "  )\n",
              ")"
            ]
          },
          "metadata": {},
          "execution_count": 7
        }
      ]
    },
    {
      "cell_type": "markdown",
      "source": [
        "### Setting device to 'cuda' if GPU is available."
      ],
      "metadata": {
        "id": "lk4cGLiPOvaQ"
      }
    },
    {
      "cell_type": "code",
      "source": [
        "device = torch.device('cuda' if torch.cuda.is_available() else 'cpu')\n",
        "device"
      ],
      "metadata": {
        "execution": {
          "iopub.status.busy": "2023-04-12T02:45:49.466828Z",
          "iopub.execute_input": "2023-04-12T02:45:49.467231Z",
          "iopub.status.idle": "2023-04-12T02:45:49.474803Z",
          "shell.execute_reply.started": "2023-04-12T02:45:49.467192Z",
          "shell.execute_reply": "2023-04-12T02:45:49.473541Z"
        },
        "trusted": true,
        "colab": {
          "base_uri": "https://localhost:8080/"
        },
        "id": "LNjaRGgAOvaQ",
        "outputId": "2cce1c21-9560-4953-d52d-9dbd66b1acca"
      },
      "execution_count": null,
      "outputs": [
        {
          "output_type": "execute_result",
          "data": {
            "text/plain": [
              "device(type='cpu')"
            ]
          },
          "metadata": {},
          "execution_count": 8
        }
      ]
    },
    {
      "cell_type": "markdown",
      "source": [
        "#Layer Add"
      ],
      "metadata": {
        "id": "W1QxXptVvJ-1"
      }
    },
    {
      "cell_type": "code",
      "source": [
        "def add_layer(in_features , out_feature , dim):\n",
        "    vggnet.classifier[6] = torch.nn.Linear( in_features , out_feature)\n",
        "    vggnet.classifier.add_module(\"7\", torch.nn.LogSoftmax(dim))\n",
        "    vggnet\n",
        "    vggnet.to(device)"
      ],
      "metadata": {
        "id": "isolkP1cvJad"
      },
      "execution_count": null,
      "outputs": []
    },
    {
      "cell_type": "markdown",
      "source": [
        "#Augment train data"
      ],
      "metadata": {
        "id": "REGFJpJ5IZPn"
      }
    },
    {
      "cell_type": "code",
      "source": [
        "def augment_train_data(image_size , degree , mean , std , train_d):\n",
        "        transformer2 = transforms.Compose([\n",
        "        transforms.Resize(image_size),\n",
        "        transforms.RandomHorizontalFlip(0.5),\n",
        "        transforms.RandomVerticalFlip(0.02),\n",
        "        transforms.RandomRotation(degree),\n",
        "        transforms.ToTensor(),\n",
        "        transforms.Normalize(mean, std)\n",
        "        ])\n",
        "        augmented_dataset = torchvision.datasets.ImageFolder(train_data_directory, transform=transformer2)\n",
        "        aug_d= len(augmented_dataset)\n",
        "        aug_d= 0.2 *aug_d\n",
        "        augmented_dataset, _  =  random_split(augmented_dataset, [int(aug_d), len(augmented_dataset) - int(aug_d)])\n",
        "        train_d = ConcatDataset([train_d, augmented_dataset])"
      ],
      "metadata": {
        "id": "2AeQr5hEyD7n"
      },
      "execution_count": null,
      "outputs": []
    },
    {
      "cell_type": "markdown",
      "source": [
        "#Data Loader"
      ],
      "metadata": {
        "id": "ibe21yFsx1NE"
      }
    },
    {
      "cell_type": "code",
      "source": [
        "def data_loader(train_d  ,train_batch_size , is_shuffle , test_batch_size ,  val_Dataset , val_batch_size):\n",
        "    train_batch_load = DataLoader(\n",
        "        train_d,\n",
        "        train_batch_size,\n",
        "        is_shuffle)\n",
        "    test_batch_load = DataLoader(\n",
        "        test_data_directory,\n",
        "        test_batch_size,\n",
        "        is_shuffle)\n",
        "    val_batch_load = DataLoader(\n",
        "        val_Dataset,\n",
        "        val_batch_size,\n",
        "        is_shuffle)\n",
        "    return train_batch_load, val_batch_load, test_batch_load"
      ],
      "metadata": {
        "id": "QfmxmVYXwS3V"
      },
      "execution_count": null,
      "outputs": []
    },
    {
      "cell_type": "markdown",
      "source": [
        "# Loading the iNaturalist Dataset"
      ],
      "metadata": {
        "id": "6P1ZRIlGOvaP"
      }
    },
    {
      "cell_type": "code",
      "source": [
        "def load_dataset(train_batch_size, val_batch_size, test_batch_size , image_size , apply_data_augmentation ,degree , mean, std):\n",
        "    transformer1 = transforms.Compose([\n",
        "        transforms.Resize(image_size),\n",
        "        transforms.ToTensor(),\n",
        "        transforms.Normalize(mean, std)\n",
        "    ])\n",
        "\n",
        "    train_d = torchvision.datasets.ImageFolder(train_data_directory, transform=transformer1)\n",
        "    temp =len(train_d)\n",
        "    temp = 0.8* temp\n",
        "\n",
        "    train_d, val_Dataset = random_split(train_d, [int(temp), len(train_d) - int(temp)])\n",
        "\n",
        "    if (apply_data_augmentation):\n",
        "        augment_train_data(image_size , degree , mean , std , train_d)\n",
        "    return data_loader(train_d  ,train_batch_size , True , test_batch_size ,  val_Dataset , val_batch_size)\n"
      ],
      "metadata": {
        "execution": {
          "iopub.status.busy": "2023-04-12T02:45:34.665288Z",
          "iopub.execute_input": "2023-04-12T02:45:34.665757Z",
          "iopub.status.idle": "2023-04-12T02:45:39.370358Z",
          "shell.execute_reply.started": "2023-04-12T02:45:34.665716Z",
          "shell.execute_reply": "2023-04-12T02:45:39.368904Z"
        },
        "trusted": true,
        "id": "hfgkc0tsOvaP"
      },
      "execution_count": null,
      "outputs": []
    },
    {
      "cell_type": "markdown",
      "source": [
        "### Freezing the Model Parameters"
      ],
      "metadata": {
        "id": "5OanMqdbOvaR"
      }
    },
    {
      "cell_type": "code",
      "source": [
        "for param in vggnet.parameters():\n",
        "    boolT=False\n",
        "    param.requires_grad = boolT"
      ],
      "metadata": {
        "execution": {
          "iopub.status.busy": "2023-04-12T02:45:56.711980Z",
          "iopub.execute_input": "2023-04-12T02:45:56.712420Z",
          "iopub.status.idle": "2023-04-12T02:45:56.718100Z",
          "shell.execute_reply.started": "2023-04-12T02:45:56.712357Z",
          "shell.execute_reply": "2023-04-12T02:45:56.716695Z"
        },
        "trusted": true,
        "id": "v37kQLozOvaR"
      },
      "execution_count": null,
      "outputs": []
    },
    {
      "cell_type": "markdown",
      "source": [
        "### Adding One more layer to the model."
      ],
      "metadata": {
        "id": "MTiwJx2SOvaS"
      }
    },
    {
      "cell_type": "code",
      "source": [
        "add_layer(in_features=4096 , out_feature=10 , dim=1)"
      ],
      "metadata": {
        "id": "3chZXEGst_he"
      },
      "execution_count": null,
      "outputs": []
    },
    {
      "cell_type": "markdown",
      "source": [
        "## Train"
      ],
      "metadata": {
        "id": "7fAK9w7DOvaT"
      }
    },
    {
      "cell_type": "code",
      "source": [
        "def train(model, learning_rate, epochs, apply_wandb_log , image_size , apply_data_augmentation):\n",
        "    mean=[0.4602, 0.4495, 0.3800]\n",
        "    degree=45\n",
        "    std=[0.2040, 0.1984, 0.1921]\n",
        "    train_batch_load, val_batch_load, test_batch_load = load_dataset(64, 16, 16 , image_size ,apply_data_augmentation ,degree, mean , std)\n",
        "    loss_function = torch.nn.CrossEntropyLoss()\n",
        "    epoch=0\n",
        "    optimizer = torch.optim.Adam(params=model.parameters(), lr=learning_rate, weight_decay =1e-4)\n",
        "    while epoch < epochs:\n",
        "        train_accuracy = 0\n",
        "        train_loss = 0\n",
        "        test_accuracy = 0\n",
        "        test_loss = 0\n",
        "        model.train()\n",
        "        for i, (images, labels) in enumerate(train_batch_load):\n",
        "\n",
        "            images= images.to(device)\n",
        "            labels = labels.to(device)\n",
        "            optimizer.zero_grad()   # doing zero gradient.\n",
        "            y_pred = model(images) #forward Propagation\n",
        "            loss = loss_function(y_pred, labels) # Calculating Loss.\n",
        "            loss.backward() # Backward Propagation\n",
        "            optimizer.step() # update rule\n",
        "\n",
        "            train_loss =train_loss +  loss.item()\n",
        "\n",
        "            _, prediction = torch.max(y_pred.data, 1)\n",
        "            train_accuracy =train_accuracy +  int(torch.sum(prediction == labels.data))\n",
        "        count_train = len(glob.glob(train_data_directory+'/**/*.jpg'))\n",
        "        train_accuracy = train_accuracy / count_train\n",
        "        train_loss = train_loss / count_train\n",
        "        print(f\"Epochs : {epoch+1} Train Accuracy : {train_accuracy / count_train} Train Loss {train_loss}\")\n",
        "\n",
        "\n",
        "        with torch.no_grad():\n",
        "            model.eval()\n",
        "            for i, (images, labels) in enumerate(val_batch_load):\n",
        "                images = images.to(device)\n",
        "                labels = labels.to(device)\n",
        "\n",
        "                y_pred = model(images)\n",
        "\n",
        "                loss = loss_function(y_pred, labels)\n",
        "                test_loss = test_loss + loss.item()\n",
        "\n",
        "                _, predicted = torch.max(y_pred.data, 1)\n",
        "\n",
        "                test_accuracy =  test_accuracy  + int(torch.sum(predicted == labels.data))\n",
        "            count_test = len(glob.glob(test_data_directory+'/**/*.jpg'))\n",
        "            test_accuracy =test_accuracy / count_test\n",
        "            test_loss =test_loss / count_test\n",
        "\n",
        "            print(f\"Epochs : {epoch+1} Validation Accuracy : {test_accuracy} Validation Loss {test_loss}\")\n",
        "            if(apply_wandb_log):\n",
        "                wandb.log({\"train_accuracy\": train_accuracy, \"train_loss\" : train_loss, \"val_accuracy\": test_accuracy, \"val_error\": test_loss})\n",
        "        epoch+=1"
      ],
      "metadata": {
        "execution": {
          "iopub.status.busy": "2023-04-12T02:46:34.951715Z",
          "iopub.execute_input": "2023-04-12T02:46:34.952122Z",
          "iopub.status.idle": "2023-04-12T02:46:34.966128Z",
          "shell.execute_reply.started": "2023-04-12T02:46:34.952087Z",
          "shell.execute_reply": "2023-04-12T02:46:34.964858Z"
        },
        "trusted": true,
        "id": "aukapr22OvaT"
      },
      "execution_count": null,
      "outputs": []
    },
    {
      "cell_type": "markdown",
      "source": [
        "## Start Training"
      ],
      "metadata": {
        "id": "gLbPoeDJOvaU"
      }
    },
    {
      "cell_type": "code",
      "source": [
        "def sweep_(learning_rate ,apply_wandb_log ,epochs , image_size, apply_data_augmentation):\n",
        "    run = wandb.init( project='DL2')\n",
        "    run.name = 'ep_' + str(epochs) +  '_lr_'+ str(learning_rate) + '_nf_'\n",
        "    train(vggnet, learning_rate, epochs,apply_wandb_log  , image_size , apply_data_augmentation)"
      ],
      "metadata": {
        "execution": {
          "iopub.status.busy": "2023-04-12T02:46:50.360948Z",
          "iopub.execute_input": "2023-04-12T02:46:50.361393Z"
        },
        "trusted": true,
        "id": "TilSUqm5OvaV"
      },
      "execution_count": null,
      "outputs": []
    },
    {
      "cell_type": "code",
      "source": [
        "sweep_(learning_rate = 0.001 ,apply_wandb_log=True ,  epochs = 10 , image_size=(256,256) ,apply_data_augmentation=True)"
      ],
      "metadata": {
        "id": "sWO_gF9Kw0UB",
        "colab": {
          "base_uri": "https://localhost:8080/",
          "height": 191
        },
        "outputId": "ab7bcc26-d5c5-47ee-cbec-ff402ea90138"
      },
      "execution_count": null,
      "outputs": [
        {
          "output_type": "stream",
          "name": "stderr",
          "text": [
            "\u001b[34m\u001b[1mwandb\u001b[0m: Currently logged in as: \u001b[33mcs23m013\u001b[0m. Use \u001b[1m`wandb login --relogin`\u001b[0m to force relogin\n"
          ]
        },
        {
          "output_type": "display_data",
          "data": {
            "text/plain": [
              "<IPython.core.display.HTML object>"
            ],
            "text/html": [
              "Tracking run with wandb version 0.16.6"
            ]
          },
          "metadata": {}
        },
        {
          "output_type": "display_data",
          "data": {
            "text/plain": [
              "<IPython.core.display.HTML object>"
            ],
            "text/html": [
              "Run data is saved locally in <code>/content/wandb/run-20240404_182138-erlczuyw</code>"
            ]
          },
          "metadata": {}
        },
        {
          "output_type": "display_data",
          "data": {
            "text/plain": [
              "<IPython.core.display.HTML object>"
            ],
            "text/html": [
              "Syncing run <strong><a href='https://wandb.ai/cs23m013/DL2/runs/erlczuyw' target=\"_blank\">effortless-vortex-49</a></strong> to <a href='https://wandb.ai/cs23m013/DL2' target=\"_blank\">Weights & Biases</a> (<a href='https://wandb.me/run' target=\"_blank\">docs</a>)<br/>"
            ]
          },
          "metadata": {}
        },
        {
          "output_type": "display_data",
          "data": {
            "text/plain": [
              "<IPython.core.display.HTML object>"
            ],
            "text/html": [
              " View project at <a href='https://wandb.ai/cs23m013/DL2' target=\"_blank\">https://wandb.ai/cs23m013/DL2</a>"
            ]
          },
          "metadata": {}
        },
        {
          "output_type": "display_data",
          "data": {
            "text/plain": [
              "<IPython.core.display.HTML object>"
            ],
            "text/html": [
              " View run at <a href='https://wandb.ai/cs23m013/DL2/runs/erlczuyw' target=\"_blank\">https://wandb.ai/cs23m013/DL2/runs/erlczuyw</a>"
            ]
          },
          "metadata": {}
        },
        {
          "output_type": "stream",
          "name": "stdout",
          "text": [
            "Epochs : 1 Train Accuracy : 0.005 Train Loss 0.11500859260559082\n",
            "Epochs : 1 Validation Accuracy : 0.0 Validation Loss 0.11035106182098389\n",
            "Epochs : 2 Train Accuracy : 0.0125 Train Loss 0.0986224889755249\n",
            "Epochs : 2 Validation Accuracy : 0.0 Validation Loss 0.11015198230743409\n"
          ]
        }
      ]
    },
    {
      "cell_type": "code",
      "source": [],
      "metadata": {
        "id": "8Q_rjawyup9k"
      },
      "execution_count": null,
      "outputs": []
    }
  ]
}